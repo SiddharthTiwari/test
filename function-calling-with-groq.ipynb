{
 "cells": [
  {
   "cell_type": "code",
   "execution_count": 1,
   "id": "d45e5ce9",
   "metadata": {
    "papermill": {
     "duration": 0.962658,
     "end_time": "2024-05-31T15:38:15.272116",
     "exception": false,
     "start_time": "2024-05-31T15:38:14.309458",
     "status": "completed"
    },
    "tags": []
   },
   "outputs": [],
   "source": [
    "from groq import Groq\n",
    "import os\n",
    "import json"
   ]
  },
  {
   "cell_type": "code",
   "execution_count": 2,
   "id": "aaa04ab3-73af-4ff5-8a5f-e35eb52b2cc7",
   "metadata": {},
   "outputs": [],
   "source": [
    "import os\n",
    "from dotenv import load_dotenv, find_dotenv\n",
    "_ = load_dotenv(find_dotenv())"
   ]
  },
  {
   "cell_type": "code",
   "execution_count": 3,
   "id": "604f9eb3",
   "metadata": {
    "papermill": {
     "duration": 0.215824,
     "end_time": "2024-05-31T15:38:15.518488",
     "exception": false,
     "start_time": "2024-05-31T15:38:15.302664",
     "status": "completed"
    },
    "tags": []
   },
   "outputs": [],
   "source": [
    "client = Groq(\n",
    "    api_key=os.environ['GROQ_API_KEY']\n",
    ",\n",
    ")\n",
    "MODEL = 'llama3-70b-8192'"
   ]
  },
  {
   "cell_type": "code",
   "execution_count": 4,
   "id": "8bf09647",
   "metadata": {
    "papermill": {
     "duration": 0.024131,
     "end_time": "2024-05-31T15:38:15.550064",
     "exception": false,
     "start_time": "2024-05-31T15:38:15.525933",
     "status": "completed"
    },
    "tags": []
   },
   "outputs": [],
   "source": [
    "def get_response(question):\n",
    "    return json.dumps({\"question\": question})\n",
    "\n",
    "\n",
    "def mutual_fund(fund_name):\n",
    "    \"\"\"Get the details of a mutual fund\"\"\"\n",
    "    if \"growth\" in fund_name.lower():\n",
    "        return json.dumps({\"fund_name\": \"Growth Fund\", \"nav\": 150.75, \"1_year_return\": \"12.5%\"})\n",
    "    elif \"income\" in fund_name.lower():\n",
    "        return json.dumps({\"fund_name\": \"Income Fund\", \"nav\": 102.50, \"1_year_return\": \"8.4%\"})\n",
    "    else:\n",
    "        return json.dumps({\"fund_name\": fund_name, \"details\": \"unknown\"})\n",
    "    \n",
    "\n",
    "def upi(transaction_id):\n",
    "    \"\"\"Get the status of a UPI transaction\"\"\"\n",
    "    if transaction_id == \"TX123\":\n",
    "        return json.dumps({\"transaction_id\": \"TX123\", \"status\": \"Success\", \"amount\": 1500})\n",
    "    else:\n",
    "        return json.dumps({\"transaction_id\": transaction_id, \"status\": \"Pending\"})\n",
    "    \n",
    "\n",
    "def health_insurance(policy_number):\n",
    "    \"\"\"Get the details of a health insurance policy\"\"\"\n",
    "    if policy_number == \"HP001\":\n",
    "        return json.dumps({\"policy_number\": \"HP001\", \"coverage\": \"500000\", \"premium\": \"12000\", \"status\": \"Active\"})\n",
    "    else:\n",
    "        return json.dumps({\"policy_number\": policy_number, \"details\": \"unknown\"})\n",
    "    \n",
    "\n",
    "def cash_loan(loan_id):\n",
    "    \"\"\"Get the details of a cash loan\"\"\"\n",
    "    if loan_id == \"LN123\":\n",
    "        return json.dumps({\"loan_id\": \"LN123\", \"amount\": \"20000\", \"interest_rate\": \"12%\", \"status\": \"Approved\"})\n",
    "    else:\n",
    "        return json.dumps({\"loan_id\": loan_id, \"details\": \"unknown\"})"
   ]
  },
  {
   "cell_type": "code",
   "execution_count": 5,
   "id": "b9593da4",
   "metadata": {
    "papermill": {
     "duration": 0.024556,
     "end_time": "2024-05-31T15:38:15.583318",
     "exception": false,
     "start_time": "2024-05-31T15:38:15.558762",
     "status": "completed"
    },
    "tags": []
   },
   "outputs": [],
   "source": [
    "tools = [\n",
    "        {\n",
    "            \"type\": \"function\",\n",
    "            \"function\": {\n",
    "                \"name\": \"get_response\",\n",
    "                \"description\": \"Responding a casual chat\",\n",
    "                \"parameters\": {\n",
    "                    \"type\": \"object\",\n",
    "                    \"properties\": {\n",
    "                        \"question\": {\n",
    "                            \"type\": \"string\",\n",
    "                            \"description\": \"Responding a casual chat\",\n",
    "                        }\n",
    "                    },\n",
    "                    \"required\": [\"question\"],\n",
    "                },\n",
    "            },\n",
    "        },\n",
    "        {\n",
    "            \"type\": \"function\",\n",
    "            \"function\": {\n",
    "                \"name\": \"mutual_fund\",\n",
    "                \"description\": \"Get the details of a mutual fund\",\n",
    "                \"parameters\": {\n",
    "                    \"type\": \"object\",\n",
    "                    \"properties\": {\n",
    "                        \"fund_name\": {\n",
    "                            \"type\": \"string\",\n",
    "                            \"description\": \"The name of the mutual fund (e.g. 'Growth Fund')\",\n",
    "                        }\n",
    "                    },\n",
    "                    \"required\": [\"fund_name\"],\n",
    "                },\n",
    "            },\n",
    "        },\n",
    "        {\n",
    "            \"type\": \"function\",\n",
    "            \"function\": {\n",
    "                \"name\": \"upi\",\n",
    "                \"description\": \"Get the status of a UPI transaction\",\n",
    "                \"parameters\": {\n",
    "                    \"type\": \"object\",\n",
    "                    \"properties\": {\n",
    "                        \"transaction_id\": {\n",
    "                            \"type\": \"string\",\n",
    "                            \"description\": \"The ID of the UPI transaction (e.g. 'TX123')\",\n",
    "                        }\n",
    "                    },\n",
    "                    \"required\": [\"transaction_id\"],\n",
    "                },\n",
    "            },\n",
    "        },\n",
    "        {\n",
    "            \"type\": \"function\",\n",
    "            \"function\": {\n",
    "                \"name\": \"health_insurance\",\n",
    "                \"description\": \"Get the details of a health insurance policy\",\n",
    "                \"parameters\": {\n",
    "                    \"type\": \"object\",\n",
    "                    \"properties\": {\n",
    "                        \"policy_number\": {\n",
    "                            \"type\": \"string\",\n",
    "                            \"description\": \"The policy number of the health insurance (e.g. 'HP001')\",\n",
    "                        }\n",
    "                    },\n",
    "                    \"required\": [\"policy_number\"],\n",
    "                },\n",
    "            },\n",
    "        },\n",
    "        {\n",
    "            \"type\": \"function\",\n",
    "            \"function\": {\n",
    "                \"name\": \"cash_loan\",\n",
    "                \"description\": \"Get the details of a cash loan\",\n",
    "                \"parameters\": {\n",
    "                    \"type\": \"object\",\n",
    "                    \"properties\": {\n",
    "                        \"loan_id\": {\n",
    "                            \"type\": \"string\",\n",
    "                            \"description\": \"The ID of the cash loan (e.g. 'LN123')\",\n",
    "                        }\n",
    "                    },\n",
    "                    \"required\": [\"loan_id\"],\n",
    "                },\n",
    "            },\n",
    "        }\n",
    "    ]"
   ]
  },
  {
   "cell_type": "code",
   "execution_count": 8,
   "id": "92d897bc",
   "metadata": {
    "papermill": {
     "duration": 0.024516,
     "end_time": "2024-05-31T15:38:15.615203",
     "exception": false,
     "start_time": "2024-05-31T15:38:15.590687",
     "status": "completed"
    },
    "tags": []
   },
   "outputs": [],
   "source": [
    "def run_conversation(user_prompt):\n",
    "    \"\"\"\n",
    "    Executes a conversation with a language model, handling function calls to obtain\n",
    "    additional data if required.\n",
    "\n",
    "    Args:\n",
    "        user_prompt (str): The initial input from the user.\n",
    "\n",
    "    Returns:\n",
    "        str: The final response generated by the language model, possibly including\n",
    "        information retrieved from calling specific functions related to mutual funds,\n",
    "        UPI transactions, health insurance policies, and cash loans.\n",
    "\n",
    "    The function performs the following steps:\n",
    "    1. Constructs an initial message list with system instructions and the user prompt.\n",
    "    2. Sends these messages to the language model to generate a response.\n",
    "    3. Checks if the response includes any tool calls (i.e., requests to call specific functions).\n",
    "    4. If tool calls are present:\n",
    "        a. Identifies and calls the appropriate function with the provided arguments.\n",
    "        b. Appends the function response to the message list.\n",
    "        c. Sends the updated messages back to the language model to generate a final response.\n",
    "    5. If no tool calls are present, uses the initial response as the final response.\n",
    "    6. Returns the final response generated by the language model.\n",
    "\n",
    "    Note:\n",
    "    - The available functions for tool calls are `get_response`, `mutual_fund`, `upi`,\n",
    "      `health_insurance`, and `cash_loan`.\n",
    "    \"\"\"\n",
    "    \n",
    "    messages = [\n",
    "        {\n",
    "            \"role\": \"system\",\n",
    "            \"content\": \"You are a function calling LLM that uses the data extracted from the functions to answer questions around mutual funds, UPI transactions, health insurance policies, and cash loans. Don't mention anything about tool in response.\"\n",
    "        },\n",
    "        {\n",
    "            \"role\": \"user\",\n",
    "            \"content\": user_prompt,\n",
    "        }\n",
    "    ]\n",
    "\n",
    "    \n",
    "    response = client.chat.completions.create(\n",
    "        model=MODEL,\n",
    "        messages=messages,\n",
    "        tools=tools,\n",
    "        tool_choice=\"auto\",\n",
    "        max_tokens=4096\n",
    "    )\n",
    "\n",
    "    response_message = response.choices[0].message\n",
    "    tool_calls = response_message.tool_calls\n",
    "\n",
    "    if tool_calls:\n",
    "        available_functions = {\n",
    "            \"get_response\": get_response,\n",
    "            \"mutual_fund\": mutual_fund,\n",
    "            \"upi\": upi,\n",
    "            \"health_insurance\": health_insurance,\n",
    "            \"cash_loan\": cash_loan,\n",
    "        }\n",
    "        messages.append(response_message)\n",
    "\n",
    "        for tool_call in tool_calls:\n",
    "            # extracting the tool information\n",
    "            function_name = tool_call.function.name\n",
    "            function_to_call = available_functions[function_name]\n",
    "            function_args = json.loads(tool_call.function.arguments)\n",
    "            function_response = function_to_call(\n",
    "                **function_args\n",
    "            )\n",
    "            \n",
    "            messages.append(\n",
    "                {\n",
    "                    \"tool_call_id\": tool_call.id,\n",
    "                    \"role\": \"tool\",\n",
    "                    \"name\": function_name,\n",
    "                    \"content\": function_response,\n",
    "                }\n",
    "            )\n",
    "\n",
    "        second_response = client.chat.completions.create(\n",
    "            model=MODEL,\n",
    "            messages=messages\n",
    "        )\n",
    "        final_response = second_response.choices[0].message.content\n",
    "        \n",
    "    \n",
    "    else:\n",
    "        response = client.chat.completions.create(\n",
    "            model=MODEL,\n",
    "            messages=messages,\n",
    "            max_tokens=4096\n",
    "        )\n",
    "        messages.append(response_message)\n",
    "        final_response = response.choices[0].message.content\n",
    "\n",
    "    return final_response"
   ]
  },
  {
   "cell_type": "markdown",
   "id": "7f68f8b5",
   "metadata": {
    "papermill": {
     "duration": 0.006876,
     "end_time": "2024-05-31T15:38:15.629685",
     "exception": false,
     "start_time": "2024-05-31T15:38:15.622809",
     "status": "completed"
    },
    "tags": []
   },
   "source": [
    "**Question about Mutual fund**"
   ]
  },
  {
   "cell_type": "code",
   "execution_count": 9,
   "id": "cde0d4ef",
   "metadata": {
    "papermill": {
     "duration": 2.449822,
     "end_time": "2024-05-31T15:38:18.086749",
     "exception": false,
     "start_time": "2024-05-31T15:38:15.636927",
     "status": "completed"
    },
    "tags": []
   },
   "outputs": [
    {
     "name": "stdout",
     "output_type": "stream",
     "text": [
      "The Growth Fund is an open-ended mutual fund scheme that aims to provide long-term capital appreciation by investing in a diversified portfolio of equities. \n",
      "\n",
      "As of the latest available data, the Net Asset Value (NAV) of the Growth Fund is ₹150.75. In terms of performance, the fund has delivered a return of 12.5% over the past 1 year. This suggests that the fund has been generating decent returns for its investors over the short to medium term.\n",
      "\n",
      "Please let me know if you would like to know more about the fund's investment strategy, portfolio composition, or any other aspect. I'm here to help!\n"
     ]
    }
   ],
   "source": [
    "user_prompt = \"Tell me about the Growth Fund mutual fund.\"\n",
    "print(run_conversation(user_prompt))"
   ]
  },
  {
   "cell_type": "markdown",
   "id": "50e178ba",
   "metadata": {
    "papermill": {
     "duration": 0.006929,
     "end_time": "2024-05-31T15:38:18.101494",
     "exception": false,
     "start_time": "2024-05-31T15:38:18.094565",
     "status": "completed"
    },
    "tags": []
   },
   "source": [
    "**Question about health insurance**"
   ]
  },
  {
   "cell_type": "code",
   "execution_count": 10,
   "id": "03f13945",
   "metadata": {
    "papermill": {
     "duration": 32.089314,
     "end_time": "2024-05-31T15:38:50.198201",
     "exception": false,
     "start_time": "2024-05-31T15:38:18.108887",
     "status": "completed"
    },
    "tags": []
   },
   "outputs": [
    {
     "name": "stdout",
     "output_type": "stream",
     "text": [
      "Based on the extracted data, here are the details of health insurance policy HP001:\n",
      "\n",
      "Policy Number: HP001\n",
      "Coverage: ₹5,00,000\n",
      "Premium: ₹12,000\n",
      "Status: Active\n"
     ]
    }
   ],
   "source": [
    "user_prompt = \"Give me the details of health insurance policy HP001.\"\n",
    "print(run_conversation(user_prompt))"
   ]
  },
  {
   "cell_type": "markdown",
   "id": "1cb2951d",
   "metadata": {
    "papermill": {
     "duration": 0.007315,
     "end_time": "2024-05-31T15:38:50.213086",
     "exception": false,
     "start_time": "2024-05-31T15:38:50.205771",
     "status": "completed"
    },
    "tags": []
   },
   "source": [
    "**Question about UPI**"
   ]
  },
  {
   "cell_type": "code",
   "execution_count": 11,
   "id": "4cdd2fb9",
   "metadata": {
    "papermill": {
     "duration": 32.795988,
     "end_time": "2024-05-31T15:39:23.016724",
     "exception": false,
     "start_time": "2024-05-31T15:38:50.220736",
     "status": "completed"
    },
    "tags": []
   },
   "outputs": [
    {
     "name": "stdout",
     "output_type": "stream",
     "text": [
      "The status of UPI transaction TX123 is \"Success\" and the amount is ₹1500.\n"
     ]
    }
   ],
   "source": [
    "user_prompt = \"What is the status of UPI transaction TX123?\"\n",
    "print(run_conversation(user_prompt))"
   ]
  },
  {
   "cell_type": "markdown",
   "id": "e11b1b93",
   "metadata": {
    "papermill": {
     "duration": 0.007239,
     "end_time": "2024-05-31T15:39:23.031823",
     "exception": false,
     "start_time": "2024-05-31T15:39:23.024584",
     "status": "completed"
    },
    "tags": []
   },
   "source": [
    "**Question about cash loan**"
   ]
  },
  {
   "cell_type": "code",
   "execution_count": 12,
   "id": "0a26e39d",
   "metadata": {
    "papermill": {
     "duration": 18.370226,
     "end_time": "2024-05-31T15:39:41.409717",
     "exception": false,
     "start_time": "2024-05-31T15:39:23.039491",
     "status": "completed"
    },
    "tags": []
   },
   "outputs": [
    {
     "name": "stdout",
     "output_type": "stream",
     "text": [
      "Based on the information retrieved, here are the details of the cash loan with ID LN123:\n",
      "\n",
      "* Loan ID: LN123\n",
      "* Amount: ₹20,000\n",
      "* Interest Rate: 12%\n",
      "* Status: Approved\n"
     ]
    }
   ],
   "source": [
    "user_prompt = \"Provide details of the cash loan with ID LN123.\"\n",
    "print(run_conversation(user_prompt))"
   ]
  },
  {
   "cell_type": "markdown",
   "id": "4c62a431",
   "metadata": {
    "papermill": {
     "duration": 0.007754,
     "end_time": "2024-05-31T15:39:41.425463",
     "exception": false,
     "start_time": "2024-05-31T15:39:41.417709",
     "status": "completed"
    },
    "tags": []
   },
   "source": [
    "**Chit chat question**"
   ]
  },
  {
   "cell_type": "code",
   "execution_count": 13,
   "id": "55448c6a",
   "metadata": {
    "papermill": {
     "duration": 16.652039,
     "end_time": "2024-05-31T15:39:58.085669",
     "exception": false,
     "start_time": "2024-05-31T15:39:41.433630",
     "status": "completed"
    },
    "tags": []
   },
   "outputs": [
    {
     "name": "stdout",
     "output_type": "stream",
     "text": [
      "I'm doing well, thank you for asking! I'm ready to help answer any questions you may have about mutual funds, UPI transactions, health insurance policies, or cash loans. How can I assist you today?\n"
     ]
    }
   ],
   "source": [
    "user_prompt = \"how are you\"\n",
    "print(run_conversation(user_prompt))"
   ]
  },
  {
   "cell_type": "code",
   "execution_count": null,
   "id": "e611074d",
   "metadata": {
    "papermill": {
     "duration": 0.007294,
     "end_time": "2024-05-31T15:39:58.100633",
     "exception": false,
     "start_time": "2024-05-31T15:39:58.093339",
     "status": "completed"
    },
    "tags": []
   },
   "outputs": [],
   "source": []
  }
 ],
 "metadata": {
  "kaggle": {
   "accelerator": "none",
   "dataSources": [],
   "dockerImageVersionId": 30698,
   "isGpuEnabled": false,
   "isInternetEnabled": true,
   "language": "python",
   "sourceType": "notebook"
  },
  "kernelspec": {
   "display_name": "Python 3 (ipykernel)",
   "language": "python",
   "name": "python3"
  },
  "language_info": {
   "codemirror_mode": {
    "name": "ipython",
    "version": 3
   },
   "file_extension": ".py",
   "mimetype": "text/x-python",
   "name": "python",
   "nbconvert_exporter": "python",
   "pygments_lexer": "ipython3",
   "version": "3.12.7"
  },
  "papermill": {
   "default_parameters": {},
   "duration": 125.223529,
   "end_time": "2024-05-31T15:39:58.632379",
   "environment_variables": {},
   "exception": null,
   "input_path": "__notebook__.ipynb",
   "output_path": "__notebook__.ipynb",
   "parameters": {},
   "start_time": "2024-05-31T15:37:53.408850",
   "version": "2.5.0"
  }
 },
 "nbformat": 4,
 "nbformat_minor": 5
}
